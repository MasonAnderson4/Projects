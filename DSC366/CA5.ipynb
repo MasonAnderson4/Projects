{
  "nbformat": 4,
  "nbformat_minor": 0,
  "metadata": {
    "colab": {
      "provenance": []
    },
    "kernelspec": {
      "name": "python3",
      "display_name": "Python 3"
    },
    "language_info": {
      "name": "python"
    }
  },
  "cells": [
    {
      "cell_type": "code",
      "execution_count": 2,
      "metadata": {
        "colab": {
          "base_uri": "https://localhost:8080/"
        },
        "id": "Odf-PRp8rEHX",
        "outputId": "6d31017d-dd9b-4b0e-d28c-58d92c36dfc9"
      },
      "outputs": [
        {
          "output_type": "stream",
          "name": "stdout",
          "text": [
            "The review 'This movie was good' is predicted to be pos\n"
          ]
        }
      ],
      "source": [
        "from sklearn.feature_extraction.text import CountVectorizer\n",
        "from sklearn.naive_bayes import MultinomialNB\n",
        "from sklearn.pipeline import make_pipeline\n",
        "\n",
        "data = [\n",
        "    (\"This is a great movie\", \"pos\"),\n",
        "    (\"I hated this movie\", \"neg\"),\n",
        "    (\"This was a great experience\", \"pos\"),\n",
        "    (\"I did not like the movie\", \"neg\"),\n",
        "    (\"This is a horrible movie\", \"neg\")\n",
        "]\n",
        "\n",
        "train_data, train_labels = zip(*data)\n",
        "\n",
        "model = make_pipeline(CountVectorizer(), MultinomialNB())\n",
        "\n",
        "model.fit(train_data, train_labels)\n",
        "\n",
        "test_texts = [\"This movie was good\"]\n",
        "predictions = model.predict(test_texts)\n",
        "\n",
        "print(f\"The review '{test_texts[0]}' is predicted to be {predictions[0]}\")"
      ]
    }
  ]
}