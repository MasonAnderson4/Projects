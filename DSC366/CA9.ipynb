{
  "nbformat": 4,
  "nbformat_minor": 0,
  "metadata": {
    "colab": {
      "provenance": []
    },
    "kernelspec": {
      "name": "python3",
      "display_name": "Python 3"
    },
    "language_info": {
      "name": "python"
    }
  },
  "cells": [
    {
      "cell_type": "code",
      "execution_count": 3,
      "metadata": {
        "id": "lm725Wj5wnep",
        "colab": {
          "base_uri": "https://localhost:8080/"
        },
        "outputId": "abc80728-430f-4607-a741-521d94dee5d9"
      },
      "outputs": [
        {
          "output_type": "stream",
          "name": "stdout",
          "text": [
            "Accuracy: 0.935672514619883\n",
            "Confusion matrix:\n",
            " [[ 52   2]\n",
            " [  9 108]]\n",
            "accuracy is really solid at around 94%, the diagonal numbers in matrix are true positive and true negatives and those are supposed to be all of the numbers in an ideal situation, but this is still good.\n"
          ]
        }
      ],
      "source": [
        "from sklearn.datasets import load_breast_cancer\n",
        "from sklearn.ensemble import RandomForestClassifier\n",
        "from sklearn.model_selection import train_test_split\n",
        "from sklearn.metrics import accuracy_score, confusion_matrix\n",
        "import pandas as pd\n",
        "\n",
        "data = load_breast_cancer()\n",
        "\n",
        "X = pd.DataFrame(data.data, columns=data.feature_names)\n",
        "y = pd.Series(data.target)\n",
        "\n",
        "X_train, X_test, y_train, y_test = train_test_split(X, y, test_size=0.3, random_state=4)\n",
        "\n",
        "rf = RandomForestClassifier(n_estimators=100, max_depth=10, random_state=4)\n",
        "rf.fit(X_train, y_train)\n",
        "\n",
        "y_pred = rf.predict(X_test)\n",
        "\n",
        "print('Accuracy:', accuracy_score(y_test, y_pred))\n",
        "print('Confusion matrix:\\n', confusion_matrix(y_test, y_pred))\n",
        "print(\"accuracy is really solid at around 94%, the diagonal numbers in matrix are true positive and true negatives and those are supposed to be all of the numbers in an ideal situation, but this is still good.\")"
      ]
    }
  ]
}