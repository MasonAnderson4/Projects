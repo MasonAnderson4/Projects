{
  "nbformat": 4,
  "nbformat_minor": 0,
  "metadata": {
    "colab": {
      "provenance": []
    },
    "kernelspec": {
      "name": "python3",
      "display_name": "Python 3"
    },
    "language_info": {
      "name": "python"
    }
  },
  "cells": [
    {
      "cell_type": "code",
      "execution_count": 8,
      "metadata": {
        "colab": {
          "base_uri": "https://localhost:8080/"
        },
        "id": "ff79QddBl9GK",
        "outputId": "685b1390-2d6a-45ca-d6f9-72ef30f7b757"
      },
      "outputs": [
        {
          "output_type": "stream",
          "name": "stdout",
          "text": [
            "Row Vector: [1 2 3]\n",
            "Column Vector:\n",
            " [[1]\n",
            " [2]\n",
            " [3]]\n",
            "Matrix:\n",
            " [[1 2 3]\n",
            " [4 5 6]\n",
            " [7 8 9]]\n",
            "All elements of matrix:\n",
            " [[1 2 3]\n",
            " [4 5 6]\n",
            " [7 8 9]]\n",
            "Second row second column:\n",
            " 5\n",
            "First two rows and all columns:\n",
            " [[1 2 3]\n",
            " [4 5 6]]\n",
            "All elements of last row:\n",
            " [7 8 9]\n",
            "All elements of last columns:\n",
            " [3 6 9]\n"
          ]
        }
      ],
      "source": [
        "import numpy as np\n",
        "\n",
        "row_vector = np.array([1, 2, 3])\n",
        "print(\"Row Vector:\" , row_vector)\n",
        "\n",
        "column_vector = np.array([[1], [2], [3]])\n",
        "print(\"Column Vector:\\n\" , column_vector)\n",
        "\n",
        "#3 x 3 matrix\n",
        "matrix = np.array([[1, 2, 3],\n",
        "                   [4, 5, 6],\n",
        "                   [7, 8, 9]])\n",
        "print(\"Matrix:\\n\" , matrix)\n",
        "\n",
        "print(\"All elements of matrix:\\n\" , matrix)\n",
        "\n",
        "print(\"Second row second column:\\n\" , matrix[1,1])\n",
        "\n",
        "print(\"First two rows and all columns:\\n\" , matrix[:2, :])\n",
        "\n",
        "print(\"All elements of last row:\\n\" , matrix[2, :])\n",
        "\n",
        "print(\"All elements of last columns:\\n\" , matrix[: , 2])"
      ]
    }
  ]
}