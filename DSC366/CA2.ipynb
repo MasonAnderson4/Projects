{
  "nbformat": 4,
  "nbformat_minor": 0,
  "metadata": {
    "colab": {
      "provenance": []
    },
    "kernelspec": {
      "name": "python3",
      "display_name": "Python 3"
    },
    "language_info": {
      "name": "python"
    }
  },
  "cells": [
    {
      "cell_type": "code",
      "execution_count": 7,
      "metadata": {
        "colab": {
          "base_uri": "https://localhost:8080/"
        },
        "id": "Zf1VYbhZ4mZN",
        "outputId": "d64a7d9f-5692-4d35-c485-62493378c8b7"
      },
      "outputs": [
        {
          "output_type": "stream",
          "name": "stdout",
          "text": [
            "Mean: 5.0\n",
            "Variance: 6.666666666666667\n",
            "Standard Deviation: 2.581988897471611\n",
            "Column Mean: [4. 5. 6.]\n",
            "Size: 12\n",
            "Reshape Column: [[ 1  2  3  4  5  6  7  8  9 10 11 12]]\n",
            "Transpose Matrix: [[ 1  4  7 10]\n",
            " [ 2  5  8 11]\n",
            " [ 3  6  9 12]]\n",
            "Flattened: [ 1  2  3  4  5  6  7  8  9 10 11 12]\n",
            "Determinant: 0.0\n",
            "Diagonal: [1 5 9]\n",
            "Diagonal: [1 5 9]\n",
            "Diagonal: [1 5 9]\n",
            "Matrix Sum: [[10 10 10]\n",
            " [10 10 10]\n",
            " [10 10 10]]\n",
            "Matrix Sub: [[ 8  6  4]\n",
            " [ 2  0 -2]\n",
            " [-4 -6 -8]]\n",
            "Matrix Mul: [[ 9 16 21]\n",
            " [24 25 24]\n",
            " [21 16  9]]\n"
          ]
        }
      ],
      "source": [
        "import numpy as np\n",
        "\n",
        "matrix_3x3 = np.array([[1,2,3],[4,5,6],[7,8,9]])\n",
        "\n",
        "mean_3x3 = matrix_3x3.mean()\n",
        "var_3x3 = matrix_3x3.var()\n",
        "std_3x3 = matrix_3x3.std()\n",
        "column_mean = matrix_3x3.mean(axis=0)\n",
        "\n",
        "print(f\"Mean: {mean_3x3}\")\n",
        "print(f\"Variance: {var_3x3}\")\n",
        "print(f\"Standard Deviation: {std_3x3}\")\n",
        "print(f\"Column Mean: {column_mean}\")\n",
        "\n",
        "\n",
        "matrix_4x3 = np.array([[1,2,3], [4,5,6], [7,8,9], [10,11,12]])\n",
        "\n",
        "reshape_2x6 = matrix_4x3.reshape(2,6)\n",
        "\n",
        "size = reshape_2x6.size\n",
        "\n",
        "print(f\"Size: {size}\")\n",
        "\n",
        "reshape_column = matrix_4x3.reshape(1, -1)\n",
        "print(f\"Reshape Column: {reshape_column}\")\n",
        "\n",
        "transpose_matrix = matrix_4x3.T\n",
        "print(f\"Transpose Matrix: {transpose_matrix}\")\n",
        "\n",
        "flattened = matrix_4x3.flatten()\n",
        "print(f\"Flattened: {flattened}\")\n",
        "\n",
        "det_4x3 = np.linalg.det(matrix_4x3[:3, :3])\n",
        "print(f\"Determinant: {det_4x3}\")\n",
        "\n",
        "diagonal_4x3 = np.diagonal(matrix_4x3)\n",
        "print(f\"Diagonal: {diagonal_4x3}\")\n",
        "\n",
        "diagonal_4x3_above = np.diagonal(matrix_4x3)\n",
        "print(f\"Diagonal: {diagonal_4x3}\")\n",
        "\n",
        "diagonal_4x3_below = np.diagonal(matrix_4x3)\n",
        "print(f\"Diagonal: {diagonal_4x3}\")\n",
        "\n",
        "matrix_3x3_a = np.array([[1,2,3],[4,5,6],[7,8,9]])\n",
        "matrix_3x3_b = np.array([[9,8,7],[6,5,4],[3,2,1]])\n",
        "\n",
        "matrix_sum = matrix_3x3_a + matrix_3x3_b\n",
        "print(f\"Matrix Sum: {matrix_sum}\")\n",
        "\n",
        "matrix_sub = matrix_3x3_b - matrix_3x3_a\n",
        "print(f\"Matrix Sub: {matrix_sub}\")\n",
        "\n",
        "matrix_mul = matrix_3x3_a * matrix_3x3_b\n",
        "print(f\"Matrix Mul: {matrix_mul}\")\n",
        "\n"
      ]
    }
  ]
}