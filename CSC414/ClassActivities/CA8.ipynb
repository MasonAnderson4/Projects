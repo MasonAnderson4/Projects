{
  "nbformat": 4,
  "nbformat_minor": 0,
  "metadata": {
    "colab": {
      "provenance": []
    },
    "kernelspec": {
      "name": "python3",
      "display_name": "Python 3"
    },
    "language_info": {
      "name": "python"
    }
  },
  "cells": [
    {
      "cell_type": "code",
      "execution_count": 4,
      "metadata": {
        "colab": {
          "base_uri": "https://localhost:8080/"
        },
        "id": "jtPwXZB9tejt",
        "outputId": "f993664d-daf7-4275-8b4e-313b056ed02f"
      },
      "outputs": [
        {
          "output_type": "stream",
          "name": "stdout",
          "text": [
            "10111\n",
            "11000\n",
            "Invalid input\n"
          ]
        }
      ],
      "source": [
        "def boolean_binary_adder(binary_str1, binary_str2):\n",
        "  for c in binary_str1:\n",
        "    if c not in '01':\n",
        "      return \"Invalid input\"\n",
        "\n",
        "  for c in binary_str2:\n",
        "    if c not in '01':\n",
        "      return \"Invalid input\"\n",
        "\n",
        "  max_length = max(len(binary_str1), len(binary_str2))\n",
        "\n",
        "  binary_str1 = binary_str1.zfill(max_length)\n",
        "  binary_str2 = binary_str2.zfill(max_length)\n",
        "\n",
        "\n",
        "  result = []\n",
        "  carry = '0'\n",
        "\n",
        "  for bit1, bit2 in zip(binary_str1[::-1], binary_str2[::-1]):\n",
        "    sum_bit = carry\n",
        "    if bit1 == '1':\n",
        "      sum_bit = '1' if sum_bit == '0' else '0'\n",
        "      carry = '1' if sum_bit == '0' else carry\n",
        "    if bit2 == '1':\n",
        "      sum_bit = '1' if sum_bit == '0' else '0'\n",
        "      carry = '1' if sum_bit == '0' else carry\n",
        "\n",
        "    result.append(sum_bit)\n",
        "\n",
        "  if carry == '1':\n",
        "    result.append(carry)\n",
        "\n",
        "\n",
        "\n",
        "  return ''.join(result[::-1])\n",
        "\n",
        "\n",
        "print(boolean_binary_adder(\"1010\", \"1101\"))\n",
        "print(boolean_binary_adder(\"110\", \"0010\"))\n",
        "print(boolean_binary_adder(\"abc\", \"1010\"))"
      ]
    }
  ]
}