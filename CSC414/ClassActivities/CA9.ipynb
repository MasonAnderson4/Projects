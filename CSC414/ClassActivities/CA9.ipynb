{
  "nbformat": 4,
  "nbformat_minor": 0,
  "metadata": {
    "colab": {
      "provenance": []
    },
    "kernelspec": {
      "name": "python3",
      "display_name": "Python 3"
    },
    "language_info": {
      "name": "python"
    }
  },
  "cells": [
    {
      "cell_type": "code",
      "execution_count": 2,
      "metadata": {
        "colab": {
          "base_uri": "https://localhost:8080/"
        },
        "id": "P48iQ0J-ijCH",
        "outputId": "8b884143-007e-4890-b40d-3f90b9bd5c1e"
      },
      "outputs": [
        {
          "output_type": "stream",
          "name": "stdout",
          "text": [
            "Q = 1, Q' = 0\n",
            "Q = 0, Q' = 1\n",
            "Q = 1, Q' = 0\n"
          ]
        }
      ],
      "source": [
        "Q = 0\n",
        "QBar = 1\n",
        "\n",
        "def initialize_flip_flop(state = 0):\n",
        "  global Q, QBar\n",
        "  Q = state\n",
        "  QBar = not state\n",
        "\n",
        "def set_flip_flop():\n",
        "  global Q, QBar\n",
        "  Q=1\n",
        "  QBar=0\n",
        "\n",
        "def reset_flip_flop():\n",
        "  global Q, QBar\n",
        "  Q = 0\n",
        "  QBar = 1\n",
        "\n",
        "def toggle_flip_flop():\n",
        "  global Q, QBar\n",
        "  Q = int(not Q)\n",
        "  QBar = int(not QBar)\n",
        "\n",
        "def display_flip_flop_state():\n",
        "  print(f\"Q = {Q}, Q' = {QBar}\")\n",
        "\n",
        "initialize_flip_flop()\n",
        "set_flip_flop()\n",
        "display_flip_flop_state()\n",
        "reset_flip_flop()\n",
        "display_flip_flop_state()\n",
        "toggle_flip_flop()\n",
        "display_flip_flop_state()\n"
      ]
    }
  ]
}