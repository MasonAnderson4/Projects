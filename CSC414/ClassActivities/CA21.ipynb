{
  "nbformat": 4,
  "nbformat_minor": 0,
  "metadata": {
    "colab": {
      "provenance": []
    },
    "kernelspec": {
      "name": "python3",
      "display_name": "Python 3"
    },
    "language_info": {
      "name": "python"
    }
  },
  "cells": [
    {
      "cell_type": "code",
      "execution_count": 2,
      "metadata": {
        "colab": {
          "base_uri": "https://localhost:8080/"
        },
        "id": "dwxVVB-Z6FbG",
        "outputId": "072948a8-4d18-4353-ebb6-c42662b84370"
      },
      "outputs": [
        {
          "output_type": "stream",
          "name": "stdout",
          "text": [
            "Initial state measurment: 0\n",
            "State measurement after Pauli-X: 1\n",
            "State measurement after Hadamard: 0\n"
          ]
        }
      ],
      "source": [
        "import numpy as np\n",
        "\n",
        "class Qubit:\n",
        "  def __init__(self, state=(1,0)):\n",
        "    self.state = np.array(state, dtype=complex)\n",
        "\n",
        "  def measure(self):\n",
        "    probabilities = np.abs(self.state)**2\n",
        "    outcome = np.random.choice([0,1], p=probabilities)\n",
        "    self.state = np.array([1,0]) if outcome == 0 else np.array([0,1])\n",
        "    return outcome\n",
        "\n",
        "class QuantumGate:\n",
        "  def apply(self, qubit):\n",
        "    raise NotImplementedError(\"This method should be implemented by subclasses\")\n",
        "\n",
        "class PauliXGate(QuantumGate):\n",
        "  def apply(self, qubit):\n",
        "    X = np.array([[0,1], [1,0]])\n",
        "    qubit.state = X.dot(qubit.state)\n",
        "\n",
        "class HadamardGate(QuantumGate):\n",
        "  def apply(self, qubit):\n",
        "    H = (1/np.sqrt(2)) * np.array([[1,1], [1,-1]])\n",
        "    qubit.state = H.dot(qubit.state)\n",
        "\n",
        "qubit = Qubit()\n",
        "print(f\"Initial state measurment: {qubit.measure()}\")\n",
        "\n",
        "qubit = Qubit()\n",
        "px = PauliXGate()\n",
        "px.apply(qubit)\n",
        "print(f\"State measurement after Pauli-X: {qubit.measure()}\")\n",
        "\n",
        "qubit = Qubit()\n",
        "h = HadamardGate()\n",
        "h.apply(qubit)\n",
        "print(f\"State measurement after Hadamard: {qubit.measure()}\")"
      ]
    }
  ]
}