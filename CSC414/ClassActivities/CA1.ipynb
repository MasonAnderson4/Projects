{
  "nbformat": 4,
  "nbformat_minor": 0,
  "metadata": {
    "colab": {
      "provenance": []
    },
    "kernelspec": {
      "name": "python3",
      "display_name": "Python 3"
    },
    "language_info": {
      "name": "python"
    }
  },
  "cells": [
    {
      "cell_type": "code",
      "execution_count": 1,
      "metadata": {
        "colab": {
          "base_uri": "https://localhost:8080/"
        },
        "id": "si97cOfJll4L",
        "outputId": "55176da3-def9-40b5-b1fa-760752fa33e9"
      },
      "outputs": [
        {
          "output_type": "execute_result",
          "data": {
            "text/plain": [
              "['1100', '10000.11', '10101']"
            ]
          },
          "metadata": {},
          "execution_count": 1
        }
      ],
      "source": [
        "def decimal_to_binary(num):\n",
        "  if isinstance(num,int):\n",
        "    return bin(num).replace(\"0b\",\"\")\n",
        "\n",
        "  elif isinstance(num, float):\n",
        "    int_part, fractional_part = str(num).split(\".\")\n",
        "    int_part = int(int_part)\n",
        "    fractional_part = float(\"0.\" + fractional_part)\n",
        "\n",
        "    int_binary = bin(int_part).replace(\"0b\",\"\")\n",
        "    fractional_binary = \"\"\n",
        "\n",
        "    while fractional_part:\n",
        "      fractional_part *=2\n",
        "      bit = int(fractional_part)\n",
        "      if bit ==1:\n",
        "        fractional_part -= bit\n",
        "        fractional_binary += \"1\"\n",
        "      else:\n",
        "        fractional_binary += \"0\"\n",
        "      if len(fractional_binary) >= 10:\n",
        "        break\n",
        "\n",
        "    return int_binary + \".\" + fractional_binary\n",
        "\n",
        "decimal_numbers = [12,16.75,21]\n",
        "binary_numbers = [decimal_to_binary(num) for num in decimal_numbers]\n",
        "\n",
        "binary_numbers\n",
        "\n"
      ]
    }
  ]
}